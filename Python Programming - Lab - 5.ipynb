{
 "cells": [
  {
   "cell_type": "markdown",
   "metadata": {},
   "source": [
    "\n",
    "<a href='https://www.darshan.ac.in/'> <img src='https://www.darshan.ac.in/Content/media/DU_Logo.svg' width=\"250\" height=\"300\"/></a>\n",
    "<pre>\n",
    "<center><b><h1>Python Programming - 2301CS404</b></center>\n",
    "<center><b><h1>Lab - 5</b></center>    \n",
    "<pre>"
   ]
  },
  {
   "cell_type": "markdown",
   "metadata": {},
   "source": [
    "# List"
   ]
  },
  {
   "cell_type": "markdown",
   "metadata": {},
   "source": [
    "### 01) WAP to find sum of all the elements in a List."
   ]
  },
  {
   "cell_type": "code",
   "execution_count": 2,
   "metadata": {},
   "outputs": [
    {
     "name": "stdout",
     "output_type": "stream",
     "text": [
      "55\n"
     ]
    }
   ],
   "source": [
    "l=[1,2,3,4,5,6,7,8,9,10]\n",
    "sum=0\n",
    "for i in l:\n",
    "    sum=sum+i\n",
    "print(sum)"
   ]
  },
  {
   "cell_type": "markdown",
   "metadata": {},
   "source": [
    "### 02) WAP to find largest element in a List."
   ]
  },
  {
   "cell_type": "code",
   "execution_count": 18,
   "metadata": {},
   "outputs": [
    {
     "name": "stdout",
     "output_type": "stream",
     "text": [
      "Enter a size of list : 5\n",
      "Enter Element in list : 10\n",
      "Enter Element in list : 90\n",
      "Enter Element in list : 20\n",
      "Enter Element in list : 30\n",
      "Enter Element in list : 50\n"
     ]
    },
    {
     "data": {
      "text/plain": [
       "90"
      ]
     },
     "execution_count": 18,
     "metadata": {},
     "output_type": "execute_result"
    }
   ],
   "source": [
    "n=int(input(\"Enter a size of list : \"))\n",
    "li=[]\n",
    "for i in range(n):\n",
    "    e=int(input(\"Enter Element in list : \"))\n",
    "    li.append(e)\n",
    "max(li)"
   ]
  },
  {
   "cell_type": "markdown",
   "metadata": {},
   "source": [
    "### 03) WAP to find the length of a List."
   ]
  },
  {
   "cell_type": "code",
   "execution_count": 19,
   "metadata": {},
   "outputs": [
    {
     "name": "stdout",
     "output_type": "stream",
     "text": [
      "Enter a size of list : 5\n",
      "Enter Element in list : 10\n",
      "Enter Element in list : 20\n",
      "Enter Element in list : 30\n",
      "Enter Element in list : 40\n",
      "Enter Element in list : 50\n"
     ]
    },
    {
     "data": {
      "text/plain": [
       "5"
      ]
     },
     "execution_count": 19,
     "metadata": {},
     "output_type": "execute_result"
    }
   ],
   "source": [
    "n=int(input(\"Enter a size of list : \"))\n",
    "li=[]\n",
    "for i in range(n):\n",
    "    e=int(input(\"Enter Element in list : \"))\n",
    "    li.append(e)\n",
    "len(li)"
   ]
  },
  {
   "cell_type": "markdown",
   "metadata": {},
   "source": [
    "### 04) WAP to interchange first and last elements in a list."
   ]
  },
  {
   "cell_type": "code",
   "execution_count": 20,
   "metadata": {},
   "outputs": [
    {
     "name": "stdout",
     "output_type": "stream",
     "text": [
      "Enter a size of list : 5\n",
      "Enter Element in list : 10\n",
      "Enter Element in list : 20\n",
      "Enter Element in list : 30\n",
      "Enter Element in list : 40\n",
      "Enter Element in list : 50\n",
      "[50, 20, 30, 40, 10]\n"
     ]
    }
   ],
   "source": [
    "n=int(input(\"Enter a size of list : \"))\n",
    "li=[]\n",
    "for i in range(n):\n",
    "    e=int(input(\"Enter Element in list : \"))\n",
    "    li.append(e)\n",
    "li[0],li[-1]=li[-1],li[0]\n",
    "print(li)"
   ]
  },
  {
   "cell_type": "markdown",
   "metadata": {},
   "source": [
    "### 05) WAP to split the List into two parts and append the first part to the end."
   ]
  },
  {
   "cell_type": "code",
   "execution_count": 23,
   "metadata": {},
   "outputs": [
    {
     "name": "stdout",
     "output_type": "stream",
     "text": [
      "Enter a size of list : 6\n",
      "Enter Element in list : 10\n",
      "Enter Element in list : 20\n",
      "Enter Element in list : 30\n",
      "Enter Element in list : 40\n",
      "Enter Element in list : 50\n",
      "Enter Element in list : 60\n",
      "[40, 50, 60, 10, 20, 30]\n"
     ]
    }
   ],
   "source": [
    "n=int(input(\"Enter a size of list : \"))\n",
    "li=[]\n",
    "for i in range(n):\n",
    "    e=int(input(\"Enter Element in list : \"))\n",
    "    li.append(e)\n",
    "mid=len(li)//2\n",
    "li=li[mid:]+li[:mid]\n",
    "print(li)"
   ]
  },
  {
   "cell_type": "markdown",
   "metadata": {},
   "source": [
    "### 06) WAP to interchange the elements on two positions entered by a user."
   ]
  },
  {
   "cell_type": "code",
   "execution_count": 30,
   "metadata": {},
   "outputs": [
    {
     "name": "stdout",
     "output_type": "stream",
     "text": [
      "Enter a size of list : 5\n",
      "Enter Element in list : 10\n",
      "Enter Element in list : 20\n",
      "Enter Element in list : 30\n",
      "Enter Element in list : 40\n",
      "Enter Element in list : 50\n",
      "Enter Position-1 :0\n",
      "Enter Position-2 :2\n",
      "[30, 20, 10, 40, 50]\n"
     ]
    }
   ],
   "source": [
    "n=int(input(\"Enter a size of list : \"))\n",
    "li=[]\n",
    "for i in range(n):\n",
    "    e=int(input(\"Enter Element in list : \"))\n",
    "    li.append(e)\n",
    "p1=int(input(\"Enter Position-1 :\"))\n",
    "p2=int(input(\"Enter Position-2 :\"))\n",
    "li[p1],li[p2]=li[p2],li[p1]\n",
    "print(li)"
   ]
  },
  {
   "cell_type": "markdown",
   "metadata": {},
   "source": [
    "### 07) WAP to reverse the list entered by user."
   ]
  },
  {
   "cell_type": "code",
   "execution_count": 32,
   "metadata": {},
   "outputs": [
    {
     "name": "stdout",
     "output_type": "stream",
     "text": [
      "Enter a size of list : 5\n",
      "Enter Element in list : 10\n",
      "Enter Element in list : 20\n",
      "Enter Element in list : 30\n",
      "Enter Element in list : 40\n",
      "Enter Element in list : 50\n",
      "[50, 40, 30, 20, 10]\n"
     ]
    }
   ],
   "source": [
    "n=int(input(\"Enter a size of list : \"))\n",
    "li=[]\n",
    "for i in range(n):\n",
    "    e=int(input(\"Enter Element in list : \"))\n",
    "    li.append(e)\n",
    "li=li[::-1]\n",
    "print(li)"
   ]
  },
  {
   "cell_type": "markdown",
   "metadata": {},
   "source": [
    "### 08) WAP to print even numbers in a list."
   ]
  },
  {
   "cell_type": "code",
   "execution_count": 44,
   "metadata": {},
   "outputs": [
    {
     "name": "stdout",
     "output_type": "stream",
     "text": [
      "Enter a size of list : 5\n",
      "Enter Element in list : 1\n",
      "Enter Element in list : 2\n",
      "Enter Element in list : 3\n",
      "Enter Element in list : 4\n",
      "Enter Element in list : 5\n",
      "2\n",
      "4\n"
     ]
    }
   ],
   "source": [
    "n=int(input(\"Enter a size of list : \"))\n",
    "li=[]\n",
    "for i in range(n):\n",
    "    e=int(input(\"Enter Element in list : \"))\n",
    "    li.append(e)\n",
    "for i in li:\n",
    "    if i%2==0:\n",
    "        print(i)"
   ]
  },
  {
   "cell_type": "markdown",
   "metadata": {},
   "source": [
    "### 09) WAP to count unique items in a list."
   ]
  },
  {
   "cell_type": "code",
   "execution_count": 10,
   "metadata": {},
   "outputs": [
    {
     "name": "stdout",
     "output_type": "stream",
     "text": [
      "Enter a size of list : 5\n",
      "Enter Element in list : 10\n",
      "Enter Element in list : 20\n",
      "Enter Element in list : 30\n",
      "Enter Element in list : 40\n",
      "Enter Element in list : 50\n",
      "{40, 10, 50, 20, 30}\n"
     ]
    }
   ],
   "source": [
    "n=int(input(\"Enter a size of list : \"))\n",
    "li=[]\n",
    "for i in range(n):\n",
    "    e=int(input(\"Enter Element in list : \"))\n",
    "    li.append(e)\n",
    "print(set(li))"
   ]
  },
  {
   "cell_type": "markdown",
   "metadata": {},
   "source": [
    "### 10) WAP to copy a list."
   ]
  },
  {
   "cell_type": "code",
   "execution_count": 11,
   "metadata": {},
   "outputs": [
    {
     "name": "stdout",
     "output_type": "stream",
     "text": [
      "[4, 5, 9, 6, 3, 2]\n"
     ]
    }
   ],
   "source": [
    "list1=[4,5,9,6,3,2]\n",
    "list2=list3[0:]\n",
    "print(list4)"
   ]
  },
  {
   "cell_type": "markdown",
   "metadata": {},
   "source": [
    "### 11) WAP to print all odd numbers in a given range."
   ]
  },
  {
   "cell_type": "code",
   "execution_count": 14,
   "metadata": {},
   "outputs": [
    {
     "name": "stdout",
     "output_type": "stream",
     "text": [
      "Enter a size of list : 5\n",
      "Enter Element in list : 1\n",
      "Enter Element in list : 2\n",
      "Enter Element in list : 3\n",
      "Enter Element in list : 4\n",
      "Enter Element in list : 5\n",
      "Enter Starting Range: 1\n",
      "Enter Ending Range: 3\n",
      "3\n"
     ]
    }
   ],
   "source": [
    "n=int(input(\"Enter a size of list : \"))\n",
    "li=[]\n",
    "for i in range(n):\n",
    "    e=int(input(\"Enter Element in list : \"))\n",
    "    li.append(e)\n",
    "x=int(input(\"Enter Starting Range: \"))\n",
    "y=int(input(\"Enter Ending Range: \"))\n",
    "for i in range(x,y+1):\n",
    "     if li[i]%2!=0:\n",
    "            print(li[i])"
   ]
  },
  {
   "cell_type": "markdown",
   "metadata": {},
   "source": [
    "### 12) WAP to count occurrences of an element in a list."
   ]
  },
  {
   "cell_type": "code",
   "execution_count": 15,
   "metadata": {},
   "outputs": [
    {
     "name": "stdout",
     "output_type": "stream",
     "text": [
      "Enter space separated values : 5\n",
      "Enter element that you want to count : 2\n",
      "Count of 2 =  0\n"
     ]
    }
   ],
   "source": [
    "n = input(\"Enter space separated values : \")\n",
    "li = [i for i in n.split()]\n",
    "element = input(\"Enter element that you want to count : \")\n",
    "count = li.count(element)\n",
    "print(f\"Count of {element} = \",count) "
   ]
  },
  {
   "cell_type": "markdown",
   "metadata": {},
   "source": [
    "### 13) WAP to find second largest number in a list."
   ]
  },
  {
   "cell_type": "code",
   "execution_count": 18,
   "metadata": {},
   "outputs": [
    {
     "name": "stdout",
     "output_type": "stream",
     "text": [
      "Enter space separated values : 2\n",
      "Second Maximum not found\n"
     ]
    }
   ],
   "source": [
    "n = input(\"Enter space separated values : \")\n",
    "li = [int(i) for i in n.split()]\n",
    "if len(li)==li.count(li[0]):\n",
    "    print(\"Second Maximum not found\")\n",
    "else:\n",
    "    maximum = max(li)\n",
    "    number = 0\n",
    "    for i in li:\n",
    "        if number<i and i<maximum:\n",
    "            number=i\n",
    "    print(\"Second Maximum = \",number)"
   ]
  },
  {
   "cell_type": "markdown",
   "metadata": {},
   "source": [
    "### 14) WAP to extract elements with frequency greater than K."
   ]
  },
  {
   "cell_type": "code",
   "execution_count": 19,
   "metadata": {},
   "outputs": [
    {
     "name": "stdout",
     "output_type": "stream",
     "text": [
      "Enter space separated values :5\n",
      "Enter value of k : 10\n",
      "[]\n"
     ]
    }
   ],
   "source": [
    "n = input(\"Enter space separated values :\")\n",
    "li = [i for i in n.split()]\n",
    "k = int(input(\"Enter value of k : \"))\n",
    "ans = set([i for i in li if li.count(i)>k])\n",
    "print(list(ans))"
   ]
  },
  {
   "cell_type": "markdown",
   "metadata": {},
   "source": [
    "### 15) WAP to create a list of squared numbers from 0 to 9 with and without using List Comprehension."
   ]
  },
  {
   "cell_type": "code",
   "execution_count": 20,
   "metadata": {},
   "outputs": [
    {
     "name": "stdout",
     "output_type": "stream",
     "text": [
      "Without List Comprehension ['5']\n",
      "With list comprehension :  [0, 1, 4, 9, 16, 25, 36, 49, 64, 81]\n"
     ]
    }
   ],
   "source": [
    "l1=[]\n",
    "for i in range(0,10):\n",
    "    l1.append(i**2)\n",
    "print(\"Without List Comprehension\",li)\n",
    "#With List Comprehension\n",
    "l2 = [i**2 for i in range(0,10)]\n",
    "print(\"With list comprehension : \",l2)"
   ]
  },
  {
   "cell_type": "markdown",
   "metadata": {},
   "source": [
    "### 16) WAP to create a new list (fruit whose name starts with 'b') from the list of fruits given by user."
   ]
  },
  {
   "cell_type": "code",
   "execution_count": 22,
   "metadata": {},
   "outputs": [
    {
     "name": "stdout",
     "output_type": "stream",
     "text": [
      "Enter space separated fruits : banana\n",
      "['banana']\n"
     ]
    }
   ],
   "source": [
    "n = input(\"Enter space separated fruits : \")\n",
    "li = [i for i in n.split()]\n",
    "fruits = [i for i in li if i.startswith(\"b\")]\n",
    "print(fruits)"
   ]
  },
  {
   "cell_type": "markdown",
   "metadata": {},
   "source": [
    "### 17) WAP to create a list of common elements from given two lists."
   ]
  },
  {
   "cell_type": "code",
   "execution_count": 24,
   "metadata": {},
   "outputs": [
    {
     "name": "stdout",
     "output_type": "stream",
     "text": [
      "Enter space separated values : 1\n",
      "Enter space separated values : 1\n",
      "['1']\n"
     ]
    }
   ],
   "source": [
    "n1 = input(\"Enter space separated values : \")\n",
    "n2 = input(\"Enter space separated values : \")\n",
    "l1 = [i for i in n1.split()]\n",
    "l2 = [i for i in n2.split()]\n",
    "common = [x for x in l1 if x in l2]\n",
    "print(common)"
   ]
  }
 ],
 "metadata": {
  "kernelspec": {
   "display_name": "Python 3 (ipykernel)",
   "language": "python",
   "name": "python3"
  },
  "language_info": {
   "codemirror_mode": {
    "name": "ipython",
    "version": 3
   },
   "file_extension": ".py",
   "mimetype": "text/x-python",
   "name": "python",
   "nbconvert_exporter": "python",
   "pygments_lexer": "ipython3",
   "version": "3.10.9"
  }
 },
 "nbformat": 4,
 "nbformat_minor": 4
}
