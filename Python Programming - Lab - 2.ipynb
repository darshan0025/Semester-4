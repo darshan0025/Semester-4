{
 "cells": [
  {
   "cell_type": "markdown",
   "metadata": {},
   "source": [
    "\n",
    "<img src='https://www.darshan.ac.in/Content/media/DU_Logo.svg' width=\"250\" height=\"300\"/>\n",
    "<pre>\n",
    "<center><b><h1>Python Programming - 2301CS404</b></center>\n",
    "<center><b><h1>Lab - 2</b></center>    \n",
    "<center><b><h1>Darshan Padsumbiya | 23010101181</b></center>  \n",
    "<pre>"
   ]
  },
  {
   "cell_type": "markdown",
   "metadata": {},
   "source": [
    "# if..else.."
   ]
  },
  {
   "cell_type": "markdown",
   "metadata": {},
   "source": [
    "### 01) WAP to check whether the given number is positive or negative."
   ]
  },
  {
   "cell_type": "code",
   "execution_count": 4,
   "metadata": {},
   "outputs": [
    {
     "name": "stdout",
     "output_type": "stream",
     "text": [
      "Enter a Number : 5\n",
      "Positive\n"
     ]
    }
   ],
   "source": [
    "n=int(input(\"Enter a Number : \"))\n",
    "if n>0:\n",
    "    print(\"Positive\")\n",
    "else:\n",
    "    print(\"Negative\")"
   ]
  },
  {
   "cell_type": "markdown",
   "metadata": {},
   "source": [
    "### 02) WAP to check whether the given number is odd or even."
   ]
  },
  {
   "cell_type": "code",
   "execution_count": 9,
   "metadata": {},
   "outputs": [
    {
     "name": "stdout",
     "output_type": "stream",
     "text": [
      "Enter a Number : 5\n",
      "Odd\n"
     ]
    }
   ],
   "source": [
    "n=int(input(\"Enter a Number : \"))\n",
    "if (n%2)==0:\n",
    "    print(\"Even\")\n",
    "else:\n",
    "    print(\"Odd\")"
   ]
  },
  {
   "cell_type": "markdown",
   "metadata": {},
   "source": [
    "### 03) WAP to find out largest number from given two numbers using simple if and ternary operator."
   ]
  },
  {
   "cell_type": "code",
   "execution_count": 21,
   "metadata": {},
   "outputs": [
    {
     "name": "stdout",
     "output_type": "stream",
     "text": [
      "Enter a Number : 5\n",
      "Enter a Number : 10\n",
      "largest :  10\n",
      "10\n"
     ]
    }
   ],
   "source": [
    "n1=int(input(\"Enter a Number : \"))\n",
    "n2=int(input(\"Enter a Number : \"))\n",
    "if (n1>n2):\n",
    "    print(\"largest : \",n1)\n",
    "else:\n",
    "    print(\"largest : \",n2)\n",
    "    \n",
    "#Using ternary operator.\n",
    "Largest=n1 if(n1>n2) else n2\n",
    "print(Largest)"
   ]
  },
  {
   "cell_type": "markdown",
   "metadata": {},
   "source": [
    "### 04) WAP to find out largest number from given three numbers."
   ]
  },
  {
   "cell_type": "code",
   "execution_count": 22,
   "metadata": {},
   "outputs": [
    {
     "name": "stdout",
     "output_type": "stream",
     "text": [
      "Enter a Number : 2\n",
      "Enter a Number : 3\n",
      "Enter a Number : 6\n",
      "largest :  6\n"
     ]
    }
   ],
   "source": [
    "n1=int(input(\"Enter a Number : \"))\n",
    "n2=int(input(\"Enter a Number : \"))\n",
    "n3=int(input(\"Enter a Number : \"))\n",
    "if (n1>n2):\n",
    "    if (n1>n3):\n",
    "        print(\"largest : \",n1)\n",
    "    else:\n",
    "        print(\"largest : \",n3)\n",
    "else:\n",
    "    if (n2>n3):\n",
    "        print(\"largest : \",n2)\n",
    "    else:\n",
    "        print(\"largest : \",n3)"
   ]
  },
  {
   "cell_type": "markdown",
   "metadata": {},
   "source": [
    "### 05) WAP to check whether the given year is leap year or not.\n",
    "[If a year can be divisible by 4 but not divisible by 100 then it is leap year but if it is divisible by 400 then it is leap year]"
   ]
  },
  {
   "cell_type": "code",
   "execution_count": 28,
   "metadata": {},
   "outputs": [
    {
     "name": "stdout",
     "output_type": "stream",
     "text": [
      "Enter the number here: 2016\n",
      "Yes! This Year is a leap Year\n"
     ]
    }
   ],
   "source": [
    "Year = int(input(\"Enter the number here: \"))\n",
    "if((Year % 400 == 0) or (Year % 100 != 0) and (Year % 4 == 0)):   \n",
    "    print(\"Yes! This Year is a leap Year\");   \n",
    "else:\n",
    "    print (\"This Year is not a leap Year\")    "
   ]
  },
  {
   "cell_type": "markdown",
   "metadata": {},
   "source": [
    "### 06) WAP in python to display the name of the day according to the number given by the user."
   ]
  },
  {
   "cell_type": "code",
   "execution_count": 35,
   "metadata": {},
   "outputs": [
    {
     "name": "stdout",
     "output_type": "stream",
     "text": [
      "enter the number : 2\n",
      "tuesday\n"
     ]
    }
   ],
   "source": [
    "date = int(input(\"enter the number : \"))\n",
    "\n",
    "day = date%7\n",
    "\n",
    "if date == 0 :\n",
    "    print(\"sunday\")\n",
    "elif day == 1 :\n",
    "    print(\"monday\")\n",
    "elif day == 2 :\n",
    "    print(\"tuesday\")\n",
    "elif day == 3 :\n",
    "    print(\"wednesday\")\n",
    "elif day == 4 :\n",
    "    print(\"thursday\")\n",
    "elif day == 5 :\n",
    "    print(\"friday\")\n",
    "elif day == 6 :\n",
    "    print(\"saturday\")\n",
    "else :\n",
    "    print(\"invalid date\")"
   ]
  },
  {
   "cell_type": "markdown",
   "metadata": {},
   "source": [
    "### 07) WAP to implement simple calculator which performs (add,sub,mul,div) of two no. based on user input."
   ]
  },
  {
   "cell_type": "code",
   "execution_count": 36,
   "metadata": {},
   "outputs": [
    {
     "name": "stdout",
     "output_type": "stream",
     "text": [
      "enter the  1st number : 5\n",
      "enter the  2nd number : 10\n",
      "enter the operation (add + , sub - , mul * , div / ) : +\n",
      "5 + 10  =  15\n"
     ]
    }
   ],
   "source": [
    "n1 = int(input(\"enter the  1st number : \"))\n",
    "n2 = int(input(\"enter the  2nd number : \"))\n",
    "\n",
    "operation = input(\"enter the operation (add + , sub - , mul * , div / ) : \")\n",
    "\n",
    "if operation == '+':\n",
    "    print(n1 , operation ,n2 ,\" = \",n1 + n2)\n",
    "elif operation == '-':\n",
    "    print(n1 , operation ,n2 ,\" = \",n1 - n2)\n",
    "elif operation == '*':\n",
    "    print(n1 , operation ,n2 ,\" = \",n1 * n2)\n",
    "elif operation == '/':\n",
    "    if n2 != 0:\n",
    "        print(n1 , operation ,n2 ,\" = \",n1 / n2)\n",
    "    else:\n",
    "        print(\"error : division by zero is not allowed\")\n",
    "else :\n",
    "    print(\"error : invalid operation\")"
   ]
  },
  {
   "cell_type": "markdown",
   "metadata": {},
   "source": [
    "### 08) WAP to read marks of five subjects. Calculate percentage and print class accordingly. \n",
    "Fail below 35 </br>\n",
    "Pass Class between 35 to 45 </br>\n",
    "Second Class</br>\n",
    "between 45 to 60</br>\n",
    "First Class between 60 to 70</br> \n",
    "Distinction if more than 70"
   ]
  },
  {
   "cell_type": "code",
   "execution_count": 37,
   "metadata": {},
   "outputs": [
    {
     "name": "stdout",
     "output_type": "stream",
     "text": [
      "enter the total marks obtained in 1st subject : 50\n",
      "enter the total marks obtained in 2nd subject : 50\n",
      "enter the total marks obtained in 3rd subject : 50\n",
      "enter the total marks obtained in 4th subject : 50\n",
      "enter the total marks obtained in 5th subject : 50\n",
      "total marks obtained are ( from 500 ) :  250\n",
      "percentage obtained are :  50.0\n",
      "you are second class\n"
     ]
    }
   ],
   "source": [
    "s1 = int(input(\"enter the total marks obtained in 1st subject : \"))\n",
    "s2 = int(input(\"enter the total marks obtained in 2nd subject : \"))\n",
    "s3 = int(input(\"enter the total marks obtained in 3rd subject : \"))\n",
    "s4 = int(input(\"enter the total marks obtained in 4th subject : \"))\n",
    "s5 = int(input(\"enter the total marks obtained in 5th subject : \"))\n",
    "\n",
    "total_marks = s1 + s2 + s3 + s4 + s5\n",
    "percentage = (total_marks / 500) * 100\n",
    "\n",
    "print(\"total marks obtained are ( from 500 ) : \",total_marks )\n",
    "print(\"percentage obtained are : \",percentage)\n",
    "\n",
    "if percentage < 35:\n",
    "    print(\"you are failed\")\n",
    "elif percentage >= 35 and percentage < 45:\n",
    "    print(\"you are pass\")\n",
    "elif percentage >= 45 and percentage < 60:\n",
    "    print(\"you are second class\")\n",
    "elif percentage >= 60 and percentage < 70:\n",
    "    print(\"you are first class\")\n",
    "elif percentage >= 70 and percentage <= 100:\n",
    "    print(\"you are distinction\")"
   ]
  },
  {
   "cell_type": "markdown",
   "metadata": {},
   "source": [
    "### 09) Three sides of a triangle are entered through the keyboard, WAP to check whether the triangle is isosceles, equilateral, scalene or right-angled triangle."
   ]
  },
  {
   "cell_type": "code",
   "execution_count": 38,
   "metadata": {},
   "outputs": [
    {
     "name": "stdout",
     "output_type": "stream",
     "text": [
      "Enter the first side of the triangle: 2\n",
      "Enter the second side of the triangle: 2\n",
      "Enter the third side of the triangle: 2\n",
      "sides of triangle are  2 2 2\n",
      "The triangle is equilateral.\n"
     ]
    }
   ],
   "source": [
    "s1 = int(input(\"Enter the first side of the triangle: \"))\n",
    "s2 = int(input(\"Enter the second side of the triangle: \"))\n",
    "s3 = int(input(\"Enter the third side of the triangle: \"))\n",
    "\n",
    "sides = [s1, s2, s3] \n",
    "sides.sort() \n",
    "sides[0] ** 2 + sides[1] ** 2 == sides[2] ** 2\n",
    "\n",
    "print(\"sides of triangle are \" , s1, s2, s3)\n",
    "\n",
    "if s1 == s2 and s2 == s3 :\n",
    "    print(\"The triangle is equilateral.\")\n",
    "elif s1 == s2 or s1 == s3 or s2 == s3:\n",
    "    print(\"The triangle is isosceles.\")\n",
    "elif sides[0] ** 2 + sides[1] ** 2 == sides[2] ** 2 : \n",
    "    print(\"The triangle is right-angled.\")\n",
    "else :\n",
    "    print(\"The triangle is scalene.\")"
   ]
  },
  {
   "cell_type": "markdown",
   "metadata": {},
   "source": [
    "### 10) WAP to find the second largest number among three user input numbers."
   ]
  },
  {
   "cell_type": "code",
   "execution_count": 39,
   "metadata": {},
   "outputs": [
    {
     "name": "stdout",
     "output_type": "stream",
     "text": [
      "entrer the 1st no. find out second largest number from given three : 5\n",
      "entrer the 2nd no. find out second largest number from given three : 2\n",
      "entrer the 3rd no. find out second largest number from given three : 3\n",
      "the second largest number is 3\n"
     ]
    }
   ],
   "source": [
    "a1 = int(input(\"entrer the 1st no. find out second largest number from given three : \"))\n",
    "a2 = int(input(\"entrer the 2nd no. find out second largest number from given three : \"))\n",
    "a3 = int(input(\"entrer the 3rd no. find out second largest number from given three : \"))\n",
    "if a1 >= a2 :\n",
    "    if a1 >= a3 :\n",
    "        print(\"the second largest number is\",a3)\n",
    "    else :\n",
    "        print(\"the second largest number is\",a1)\n",
    "else :\n",
    "    if a2 >= a3 :\n",
    "        print(\"the second largest number is\",a3)\n",
    "    else :\n",
    "        print(\"the second largest number is\",a2)"
   ]
  },
  {
   "cell_type": "markdown",
   "metadata": {},
   "source": [
    "### 11) WAP to calculate electricity bill based on following criteria. Which takes the unit from the user.\n",
    "a. First 1 to 50 units – Rs. 2.60/unit</br>\n",
    "b. Next 50 to 100 units – Rs. 3.25/unit</br>\n",
    "c. Next 100 to 200 units – Rs. 5.26/unit</br>\n",
    "d. above 200 units – Rs. 8.45/unit"
   ]
  },
  {
   "cell_type": "code",
   "execution_count": 40,
   "metadata": {},
   "outputs": [
    {
     "name": "stdout",
     "output_type": "stream",
     "text": [
      "Enter the number of units consumed : 50\n",
      "The bill is :  130.0\n"
     ]
    }
   ],
   "source": [
    "unit = int(input(\"Enter the number of units consumed : \"))\n",
    "\n",
    "if unit <= 50:\n",
    "    print(\"The bill is : \", unit * 2.60)\n",
    "elif unit > 50 and unit <= 100:\n",
    "    print(\"The bill is : \", 50 * 2.60 + (unit - 50) * 3.25)\n",
    "elif unit > 100 and unit <= 200:\n",
    "    print(\"The bill is : \", 50 * 2.60 + 50 * 3.25 + (unit - 100) * 5.26)\n",
    "elif unit > 200:\n",
    "    print(\"The bill is : \", 50 * 2.60 + 50 * 3.25 + 100 * 5.26 + (unit - 200) * 8.45)"
   ]
  }
 ],
 "metadata": {
  "kernelspec": {
   "display_name": "Python 3 (ipykernel)",
   "language": "python",
   "name": "python3"
  },
  "language_info": {
   "codemirror_mode": {
    "name": "ipython",
    "version": 3
   },
   "file_extension": ".py",
   "mimetype": "text/x-python",
   "name": "python",
   "nbconvert_exporter": "python",
   "pygments_lexer": "ipython3",
   "version": "3.10.9"
  }
 },
 "nbformat": 4,
 "nbformat_minor": 4
}
