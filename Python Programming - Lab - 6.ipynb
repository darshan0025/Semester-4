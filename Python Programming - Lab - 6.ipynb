{
 "cells": [
  {
   "cell_type": "markdown",
   "metadata": {},
   "source": [
    "<img src='https://www.darshan.ac.in/Content/media/DU_Logo.svg' width=\"250\" height=\"300\"/>\n",
    "<pre>\n",
    "<center><b><h1>Python Programming - 2301CS404</b></center>\n",
    "<center><b><h1>Lab - 6</b></center>    \n",
    "<center><b><h1>Darshan Padsumbiya | 23010101181</b></center>  \n",
    "<pre>"
   ]
  },
  {
   "cell_type": "markdown",
   "metadata": {},
   "source": [
    "# Tuple"
   ]
  },
  {
   "cell_type": "markdown",
   "metadata": {},
   "source": [
    "### 01) WAP to find sum of tuple elements."
   ]
  },
  {
   "cell_type": "code",
   "execution_count": 1,
   "metadata": {},
   "outputs": [
    {
     "name": "stdout",
     "output_type": "stream",
     "text": [
      "sum of tuple is:  21\n"
     ]
    }
   ],
   "source": [
    "t = (1, 2, 3, 4, 5, 6)\n",
    "sum = 0\n",
    "for i in t:\n",
    "    sum += i\n",
    "\n",
    "print(\"sum of tuple is: \", sum)"
   ]
  },
  {
   "cell_type": "markdown",
   "metadata": {},
   "source": [
    "### 02) WAP to find Maximum and Minimum K elements in a given tuple."
   ]
  },
  {
   "cell_type": "code",
   "execution_count": 2,
   "metadata": {},
   "outputs": [
    {
     "name": "stdout",
     "output_type": "stream",
     "text": [
      "max of tuple is:  10\n",
      "min of tuple is:  1\n"
     ]
    }
   ],
   "source": [
    "t = (1, 2, 3, 4, 5, 6, 7 ,8, 9, 10)\n",
    "print(\"max of tuple is: \", max(t))\n",
    "print(\"min of tuple is: \", min(t))"
   ]
  },
  {
   "cell_type": "markdown",
   "metadata": {},
   "source": [
    "### 03) WAP to find tuples which have all elements divisible by K from a list of tuples."
   ]
  },
  {
   "cell_type": "code",
   "execution_count": 4,
   "metadata": {},
   "outputs": [
    {
     "name": "stdout",
     "output_type": "stream",
     "text": [
      "Enter k value : 5\n"
     ]
    },
    {
     "data": {
      "text/plain": [
       "[(10, 20, 30)]"
      ]
     },
     "execution_count": 4,
     "metadata": {},
     "output_type": "execute_result"
    }
   ],
   "source": [
    "t1=[(2,4,6),(5,7,8),(10,20,30)]\n",
    "t2=[]\n",
    "k=int(input('Enter k value : '))\n",
    "for i in t1:\n",
    "    if all(x%k==0 for x in i):\n",
    "        t2.append(i)\n",
    "t2"
   ]
  },
  {
   "cell_type": "markdown",
   "metadata": {},
   "source": [
    "### 04) WAP to create a list of tuples from given list having number and its cube in each tuple."
   ]
  },
  {
   "cell_type": "code",
   "execution_count": 6,
   "metadata": {},
   "outputs": [
    {
     "data": {
      "text/plain": [
       "[(1, 1), (2, 8), (3, 27), (4, 64), (5, 125)]"
      ]
     },
     "execution_count": 6,
     "metadata": {},
     "output_type": "execute_result"
    }
   ],
   "source": [
    "l1 = [1, 2, 3, 4, 5]\n",
    "cubes = [(i, i**3) for i in l1]\n",
    "l2 =[]\n",
    "for i in l1:\n",
    "    l2.append((i, i**3))\n",
    "l2"
   ]
  },
  {
   "cell_type": "markdown",
   "metadata": {},
   "source": [
    "### 05) WAP to find tuples with all positive elements from the given list of tuples."
   ]
  },
  {
   "cell_type": "code",
   "execution_count": 17,
   "metadata": {},
   "outputs": [
    {
     "name": "stdout",
     "output_type": "stream",
     "text": [
      "(1, 4, 6, 1, 3)\n",
      "(2, 4, 6, 8, 10)\n"
     ]
    }
   ],
   "source": [
    "l1 = [(1, 4, 6, 1, 3), (-1, 3, 5, 7, 9), (2, 4, 6, 8, 10), (1, -3, 5, 7, 9)]\n",
    "for i in l1:\n",
    "    if all(x>0 for x in i):\n",
    "        print(i)"
   ]
  },
  {
   "cell_type": "markdown",
   "metadata": {},
   "source": [
    "### 06) WAP to add tuple to list and vice – versa."
   ]
  },
  {
   "cell_type": "code",
   "execution_count": 27,
   "metadata": {},
   "outputs": [
    {
     "name": "stdout",
     "output_type": "stream",
     "text": [
      "the original list is : [5, 6, 7]\n",
      "the container after addition: [5, 6, 7, (9, 10)]\n"
     ]
    }
   ],
   "source": [
    "test_list = [5,6,7]\n",
    "print(\"the original list is : \"+ str(test_list))\n",
    "test_tup = (9,10)\n",
    "test_list.append(test_tup)\n",
    "\n",
    "print(\"the container after addition: \"+ str(test_list))"
   ]
  },
  {
   "cell_type": "markdown",
   "metadata": {},
   "source": [
    "### 07) WAP to remove tuples of length K."
   ]
  },
  {
   "cell_type": "code",
   "execution_count": 35,
   "metadata": {},
   "outputs": [
    {
     "name": "stdout",
     "output_type": "stream",
     "text": [
      "enter k :5\n",
      "[(-1, 3, 5, 7, 9), (1, 2, 3), (1, -3, 5, 7, 9), (1, 2, 3, 4)]\n"
     ]
    }
   ],
   "source": [
    "l3 = [(1,4,6,1,3),(-1,3,5,7,9),(1,2,3),(2,4,6,8,10),(1,-3,5,7,9),(1,2,3,4)]\n",
    "k = int(input(\"enter k :\"))\n",
    "index = -1\n",
    "for t in l3:\n",
    "    count = 0\n",
    "    index +=1\n",
    "    for i in t:\n",
    "        count += 1\n",
    "    if count == k:\n",
    "        l3.pop(index)\n",
    "print(l3)"
   ]
  },
  {
   "cell_type": "markdown",
   "metadata": {},
   "source": [
    "### 08) WAP to remove duplicates from tuple."
   ]
  },
  {
   "cell_type": "code",
   "execution_count": 22,
   "metadata": {},
   "outputs": [
    {
     "name": "stdout",
     "output_type": "stream",
     "text": [
      "Tuple after removing duplicates:  (1, 2, 3, 4, 5, 6, 7, 8, 9, 10)\n"
     ]
    }
   ],
   "source": [
    "t6 = (1,1,2,3,3,4,4,5,5,6,6,6,7,7,8,8,9,9,10,10)\n",
    "t7 = tuple(set(t6))\n",
    "print(\"Tuple after removing duplicates: \", t7)"
   ]
  },
  {
   "cell_type": "markdown",
   "metadata": {},
   "source": [
    "### 09) WAP to multiply adjacent elements of a tuple and print that resultant tuple."
   ]
  },
  {
   "cell_type": "code",
   "execution_count": 24,
   "metadata": {},
   "outputs": [
    {
     "name": "stdout",
     "output_type": "stream",
     "text": [
      "Tuple after multiplying adjacent elements:  (2, 6, 12, 20, 30, 42, 56, 72, 90)\n"
     ]
    }
   ],
   "source": [
    "t1 = (1, 2, 3, 4, 5, 6, 7, 8, 9, 10)\n",
    "l1 = list(t1)\n",
    "t2 = ()\n",
    "\n",
    "for i in range(0, len(l8)-1):\n",
    "    t2 = t2 + (l1[i] * l1[i+1],)\n",
    "\n",
    "print(\"Tuple after multiplying adjacent elements: \", t2)"
   ]
  },
  {
   "cell_type": "markdown",
   "metadata": {},
   "source": [
    "### 10) WAP to test if the given tuple is distinct or not."
   ]
  },
  {
   "cell_type": "code",
   "execution_count": 25,
   "metadata": {},
   "outputs": [
    {
     "name": "stdout",
     "output_type": "stream",
     "text": [
      "tuple is distinct\n"
     ]
    }
   ],
   "source": [
    "t1 = (1, 2, 3, 4, 5, 6, 7, 8, 9, 10)\n",
    "if len(t1) == len(set(t1)):\n",
    "    print(\"tuple is distinct\")\n",
    "else:\n",
    "    print(\"tuple is not distinct\")"
   ]
  }
 ],
 "metadata": {
  "kernelspec": {
   "display_name": "Python 3 (ipykernel)",
   "language": "python",
   "name": "python3"
  },
  "language_info": {
   "codemirror_mode": {
    "name": "ipython",
    "version": 3
   },
   "file_extension": ".py",
   "mimetype": "text/x-python",
   "name": "python",
   "nbconvert_exporter": "python",
   "pygments_lexer": "ipython3",
   "version": "3.10.9"
  }
 },
 "nbformat": 4,
 "nbformat_minor": 4
}
