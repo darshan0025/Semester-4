{
 "cells": [
  {
   "cell_type": "markdown",
   "metadata": {},
   "source": [
    "<img src='https://www.darshan.ac.in/Content/media/DU_Logo.svg' width=\"250\" height=\"10\"/>\n",
    "<pre>\n",
    "<center><b><h1>Python Programming - 2301CS404</b></center>\n",
    "<center><b><h1>Lab - 1</b></center>    \n",
    "<center><b><h1>Darshan Padsumbiya | 23010101181</b></center>  \n",
    "<pre>"
   ]
  },
  {
   "cell_type": "markdown",
   "metadata": {},
   "source": [
    "### 01) WAP to print “Hello World”"
   ]
  },
  {
   "cell_type": "code",
   "execution_count": 3,
   "metadata": {},
   "outputs": [
    {
     "name": "stdout",
     "output_type": "stream",
     "text": [
      "Hello World\n"
     ]
    }
   ],
   "source": [
    "print('Hello World')"
   ]
  },
  {
   "cell_type": "markdown",
   "metadata": {},
   "source": [
    "### 02) WAP to print addition of two numbers with and without using input()."
   ]
  },
  {
   "cell_type": "code",
   "execution_count": 4,
   "metadata": {},
   "outputs": [
    {
     "name": "stdout",
     "output_type": "stream",
     "text": [
      "Enter number : 3\n",
      "Enter another number : 2\n",
      "5\n"
     ]
    }
   ],
   "source": [
    "a = int(input(\"Enter number : \"))\n",
    "b = int(input(\"Enter another number : \"))\n",
    "print(a+b)"
   ]
  },
  {
   "cell_type": "markdown",
   "metadata": {},
   "source": [
    "### 03) WAP to check the type of the variable."
   ]
  },
  {
   "cell_type": "code",
   "execution_count": 5,
   "metadata": {},
   "outputs": [
    {
     "name": "stdout",
     "output_type": "stream",
     "text": [
      "<class 'str'>\n",
      "<class 'int'>\n",
      "<class 'float'>\n"
     ]
    }
   ],
   "source": [
    "a= 'abc'\n",
    "b= 123\n",
    "c= 12.454\n",
    "print(type(a))\n",
    "print(type(b))\n",
    "print(type(c))"
   ]
  },
  {
   "cell_type": "markdown",
   "metadata": {},
   "source": [
    "### 04) WAP to calculate simple interest."
   ]
  },
  {
   "cell_type": "code",
   "execution_count": 7,
   "metadata": {},
   "outputs": [
    {
     "name": "stdout",
     "output_type": "stream",
     "text": [
      "enter value: 600\n",
      "enter value: 1\n",
      "enter value: 1\n",
      "SI=6.0\n"
     ]
    }
   ],
   "source": [
    "p = int(input(\"enter value: \"))\n",
    "n = int(input(\"enter value: \"))\n",
    "r = int(input(\"enter value: \"))\n",
    "SI = ((p*n*r)/100)\n",
    "print('SI=',end='')\n",
    "print(SI)"
   ]
  },
  {
   "cell_type": "markdown",
   "metadata": {},
   "source": [
    "### 05) WAP to calculate area and perimeter of a circle."
   ]
  },
  {
   "cell_type": "code",
   "execution_count": 8,
   "metadata": {},
   "outputs": [
    {
     "name": "stdout",
     "output_type": "stream",
     "text": [
      "Enter radius : 2\n",
      "area of circle : 12.56\n",
      "Enter perimeter : 3\n",
      "perimeter of circle : 18.84\n"
     ]
    }
   ],
   "source": [
    "r = int(input(\"Enter radius : \"))\n",
    "print('area of circle : ',end='')\n",
    "area = 3.14*r*r\n",
    "print(area)\n",
    "\n",
    "r = int(input(\"Enter perimeter : \"))\n",
    "print('perimeter of circle : ',end='')\n",
    "p = 2*3.14*r\n",
    "print(p)"
   ]
  },
  {
   "cell_type": "markdown",
   "metadata": {},
   "source": [
    "### 06) WAP to calculate area of a triangle."
   ]
  },
  {
   "cell_type": "code",
   "execution_count": 9,
   "metadata": {},
   "outputs": [
    {
     "name": "stdout",
     "output_type": "stream",
     "text": [
      "Enter the value of base : 2\n",
      "Enter the value of height : 3\n",
      "area of triangle : 3.0\n"
     ]
    }
   ],
   "source": [
    "b = int(input(\"Enter the value of base : \"))\n",
    "h = int(input(\"Enter the value of height : \"))\n",
    "print('area of triangle : ',end='')\n",
    "area = (1/2)*b*h\n",
    "print(area)"
   ]
  },
  {
   "cell_type": "markdown",
   "metadata": {},
   "source": [
    "### 07) WAP to compute quotient and remainder."
   ]
  },
  {
   "cell_type": "code",
   "execution_count": 20,
   "metadata": {},
   "outputs": [
    {
     "name": "stdout",
     "output_type": "stream",
     "text": [
      "enter value of a: 25\n",
      "enter value of b: 5\n",
      "Quotient : 5\n",
      "Remainder :  0\n",
      "power :  9765625\n",
      "devision :  5.0\n"
     ]
    }
   ],
   "source": [
    "a = int(input(\"enter value of a: \"))\n",
    "b = int(input(\"enter value of b: \"))\n",
    "print(f\"Quotient : {a//b}\")\n",
    "print(\"Remainder : \",(a%b))\n",
    "print(\"power : \",(a**b))\n",
    "print(\"devision : \",(a/b))"
   ]
  },
  {
   "cell_type": "markdown",
   "metadata": {},
   "source": [
    "### 08) WAP to convert degree into Fahrenheit and vice versa."
   ]
  },
  {
   "cell_type": "code",
   "execution_count": 14,
   "metadata": {},
   "outputs": [
    {
     "name": "stdout",
     "output_type": "stream",
     "text": [
      "enter degree : 50\n",
      "Fahrenheit :  122.0\n",
      "enter Fahrenheit : 122\n",
      "Degree :  50.0\n"
     ]
    }
   ],
   "source": [
    "c = int(input(\"enter degree : \"))\n",
    "print(\"Fahrenheit : \",((c*(9/5))+32))\n",
    "f = int(input(\"enter Fahrenheit : \"))\n",
    "print(\"Degree : \",((f-32)*(5/9)))"
   ]
  },
  {
   "cell_type": "markdown",
   "metadata": {},
   "source": [
    "### 09) WAP to find the distance between two points in 2-D space."
   ]
  },
  {
   "cell_type": "code",
   "execution_count": 15,
   "metadata": {},
   "outputs": [
    {
     "name": "stdout",
     "output_type": "stream",
     "text": [
      "Enter the value  : 5\n",
      "Enter the value  : 10\n",
      "Enter the value  : 7\n",
      "Enter the value  : 6\n",
      "Distance :  5.0990195135927845\n"
     ]
    }
   ],
   "source": [
    "import math\n",
    "x1 = int(input(\"Enter the value  : \"))\n",
    "x2 = int(input(\"Enter the value  : \"))\n",
    "y1 = int(input(\"Enter the value  : \"))\n",
    "y2 = int(input(\"Enter the value  : \"))\n",
    "print(\"Distance : \",math.sqrt((((x2-x1)*(x2-x1))+((y2-y1)*(y2-y1)))))"
   ]
  },
  {
   "cell_type": "markdown",
   "metadata": {},
   "source": [
    "### 10) WAP to print sum of n natural numbers."
   ]
  },
  {
   "cell_type": "code",
   "execution_count": 16,
   "metadata": {},
   "outputs": [
    {
     "name": "stdout",
     "output_type": "stream",
     "text": [
      "Enter the value  : 5\n",
      "sum of n natural number :  15.0\n"
     ]
    }
   ],
   "source": [
    "n = int(input(\"Enter the value  : \"))\n",
    "print(\"sum of n natural number : \",((n*(n+1)/2)))"
   ]
  },
  {
   "cell_type": "markdown",
   "metadata": {},
   "source": [
    "### 11) WAP to print sum of square of n natural numbers."
   ]
  },
  {
   "cell_type": "code",
   "execution_count": 17,
   "metadata": {},
   "outputs": [
    {
     "name": "stdout",
     "output_type": "stream",
     "text": [
      "Enter the value  : 5\n",
      "sum of square of n natural number :  50.166666666666664\n"
     ]
    }
   ],
   "source": [
    "n = int(input(\"Enter the value  : \"))\n",
    "print(\"sum of square of n natural number : \",(((n*(n+1)*(2*n)+1))/6))"
   ]
  },
  {
   "cell_type": "markdown",
   "metadata": {},
   "source": [
    "### 12) WAP to concate the first and last name of the student."
   ]
  },
  {
   "cell_type": "code",
   "execution_count": 21,
   "metadata": {},
   "outputs": [
    {
     "name": "stdout",
     "output_type": "stream",
     "text": [
      "Hello Coders\n"
     ]
    }
   ],
   "source": [
    "str1 = \"Hello \"    \n",
    "str2 = \"Coders\"  \n",
    "str3 = str1 + str2   \n",
    "print(str3)"
   ]
  },
  {
   "cell_type": "markdown",
   "metadata": {},
   "source": [
    "### 13) WAP to swap two numbers."
   ]
  },
  {
   "cell_type": "code",
   "execution_count": 2,
   "metadata": {},
   "outputs": [
    {
     "name": "stdout",
     "output_type": "stream",
     "text": [
      "Enter value of x: 5\n",
      "Enter value of y: 10\n",
      "The value of x after swapping: 10\n",
      "The value of y after swapping: 5\n"
     ]
    }
   ],
   "source": [
    "x = input('Enter value of x: ')\n",
    "y = input('Enter value of y: ')\n",
    "\n",
    "temp = x\n",
    "x = y\n",
    "y = temp\n",
    "\n",
    "print('The value of x after swapping: {}'.format(x))\n",
    "print('The value of y after swapping: {}'.format(y))"
   ]
  },
  {
   "cell_type": "markdown",
   "metadata": {},
   "source": [
    "### 14) WAP to get the distance from user into kilometer, and convert it into meter, feet, inches and centimeter."
   ]
  },
  {
   "cell_type": "code",
   "execution_count": 3,
   "metadata": {},
   "outputs": [
    {
     "name": "stdout",
     "output_type": "stream",
     "text": [
      "Enter The Kilometer : 50\n",
      "Kilometers :  50.0\n",
      "Meters  :  50000.0\n",
      "Centimeters :  5000000.0\n",
      "Inches :  1968503.937007874\n",
      "Feet :  164041.99475065616\n"
     ]
    }
   ],
   "source": [
    "km=float(input(\"Enter The Kilometer : \"));\n",
    "m=km*1000;\n",
    "cm=m*100;\n",
    "i=cm/2.54;\n",
    "ft=i/12;\n",
    "print(\"Kilometers : \",km);\n",
    "print(\"Meters  : \",m);\n",
    "print(\"Centimeters : \",cm);\n",
    "print(\"Inches : \",i);\n",
    "print(\"Feet : \",ft);"
   ]
  },
  {
   "cell_type": "markdown",
   "metadata": {},
   "source": [
    "### 15) WAP to get day, month and year from the user and print the date in the given format: 23-11-2024."
   ]
  },
  {
   "cell_type": "code",
   "execution_count": 4,
   "metadata": {},
   "outputs": [
    {
     "name": "stdout",
     "output_type": "stream",
     "text": [
      "Current date:  2024-12-06\n",
      "Current year: 2024\n",
      "Current month: 12\n",
      "Current day: 6\n"
     ]
    }
   ],
   "source": [
    "from datetime import date \n",
    "todays_date = date.today() \n",
    "print(\"Current date: \", todays_date) \n",
    "print(\"Current year:\", todays_date.year) \n",
    "print(\"Current month:\", todays_date.month) \n",
    "print(\"Current day:\", todays_date.day)"
   ]
  }
 ],
 "metadata": {
  "kernelspec": {
   "display_name": "Python 3 (ipykernel)",
   "language": "python",
   "name": "python3"
  },
  "language_info": {
   "codemirror_mode": {
    "name": "ipython",
    "version": 3
   },
   "file_extension": ".py",
   "mimetype": "text/x-python",
   "name": "python",
   "nbconvert_exporter": "python",
   "pygments_lexer": "ipython3",
   "version": "3.10.9"
  },
  "vscode": {
   "interpreter": {
    "hash": "31f2aee4e71d21fbe5cf8b01ff0e069b9275f58929596ceb00d14d90e3e16cd6"
   }
  }
 },
 "nbformat": 4,
 "nbformat_minor": 4
}
