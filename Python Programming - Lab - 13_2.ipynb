{
 "cells": [
  {
   "cell_type": "markdown",
   "metadata": {},
   "source": [
    "<img src='https://www.darshan.ac.in/Content/media/DU_Logo.svg' width=\"250\" height=\"300\"/>\n",
    "<pre>\n",
    "<center><b><h1>Python Programming - 2301CS404</b></center>\n",
    "<center><b><h1>Lab - 13_2</b></center>    \n",
    "<center><b><h1>Darshan Padsumbiya | 23010101181</b></center>  \n",
    "<pre>"
   ]
  },
  {
   "cell_type": "markdown",
   "metadata": {},
   "source": [
    "## Continued.."
   ]
  },
  {
   "cell_type": "markdown",
   "metadata": {},
   "source": [
    "### 10) Calculate area of a ractangle using object as an argument to a method."
   ]
  },
  {
   "cell_type": "code",
   "execution_count": 6,
   "metadata": {},
   "outputs": [
    {
     "name": "stdout",
     "output_type": "stream",
     "text": [
      "The area of the rectangle is: 50\n"
     ]
    }
   ],
   "source": [
    "class Rectangle:\n",
    "    def __init__(self, width, height):\n",
    "        self.width = width\n",
    "        self.height = height\n",
    "\n",
    "    def calculate_area(rectangle):\n",
    "        return rectangle.width * rectangle.height\n",
    "\n",
    "\n",
    "rect = Rectangle(5, 10)\n",
    "area = calculate_area(rect)\n",
    "print(f\"The area of the rectangle is: {area}\")"
   ]
  },
  {
   "cell_type": "markdown",
   "metadata": {},
   "source": [
    "### 11) Calculate the area of a square. \n",
    "### Include a Constructor, a method to calculate area named area() and a method named output() that prints the output and is invoked by area()."
   ]
  },
  {
   "cell_type": "code",
   "execution_count": 5,
   "metadata": {},
   "outputs": [
    {
     "name": "stdout",
     "output_type": "stream",
     "text": [
      "The area of the square with side length 5 is 25\n"
     ]
    }
   ],
   "source": [
    "class Square:  \n",
    "    def __init__(self, side_length):  \n",
    "        self.side_length = side_length  \n",
    "\n",
    "    def area(self):  \n",
    "        area_value = self.side_length ** 2  \n",
    "        self.output(area_value)  \n",
    "\n",
    "    def output(self, area_value):  \n",
    "        print(f\"The area of the square with side length {self.side_length} is {area_value}\")  \n",
    "\n",
    "# Example usage  \n",
    "square = Square(5)  \n",
    "square.area()  "
   ]
  },
  {
   "cell_type": "markdown",
   "metadata": {},
   "source": [
    "### 12) Calculate the area of a rectangle. \n",
    "### Include a Constructor, a method to calculate area named area() and a method named output() that prints the output and is invoked by area().\n",
    "### Also define a class method that compares the two sides of reactangle. An object is instantiated only if the two sides are different; otherwise a message should be displayed : THIS IS SQUARE."
   ]
  },
  {
   "cell_type": "code",
   "execution_count": 7,
   "metadata": {},
   "outputs": [
    {
     "name": "stdout",
     "output_type": "stream",
     "text": [
      "The area of the rectangle is: 50\n",
      "THIS IS SQUARE.\n"
     ]
    }
   ],
   "source": [
    "class Rectangle:  \n",
    "    def __init__(self, length, width):  \n",
    "        if length == width:  \n",
    "            print(\"THIS IS SQUARE.\")  \n",
    "        else:  \n",
    "            self.length = length  \n",
    "            self.width = width  \n",
    "\n",
    "    def area(self):  \n",
    "        if hasattr(self, 'length') and hasattr(self, 'width'):  \n",
    "            area = self.length * self.width  \n",
    "            self.output(area)  \n",
    "\n",
    "    def output(self, calculated_area):  \n",
    "        print(f\"The area of the rectangle is: {calculated_area}\")  \n",
    "\n",
    "    @classmethod  \n",
    "    def compare_sides(cls, length, width):  \n",
    "        if length == width:  \n",
    "            return \"THIS IS SQUARE.\"  \n",
    "        else:  \n",
    "            return \"Length and width are different.\"  \n",
    "\n",
    "# Example usage  \n",
    "rect1 = Rectangle(10, 5)  \n",
    "rect1.area()  \n",
    "\n",
    "rect2 = Rectangle(4, 4)  # This will print \"THIS IS SQUARE.\"  "
   ]
  },
  {
   "cell_type": "markdown",
   "metadata": {},
   "source": [
    "### 13) Define a class Square having a private attribute \"side\". \n",
    "### Implement get_side and set_side methods to accees the private attribute from outside of the class."
   ]
  },
  {
   "cell_type": "code",
   "execution_count": 12,
   "metadata": {},
   "outputs": [
    {
     "name": "stdout",
     "output_type": "stream",
     "text": [
      "5\n",
      "10\n"
     ]
    }
   ],
   "source": [
    "class Square:\n",
    "    def __init__(self, side):\n",
    "        self.__side = side  # private attribute\n",
    "\n",
    "    def get_side(self):\n",
    "        return self.__side\n",
    "\n",
    "    def set_side(self, side):\n",
    "        self.__side = side\n",
    "\n",
    "# Example usage:\n",
    "square = Square(5)\n",
    "print(square.get_side())  # Output: 5\n",
    "square.set_side(10)\n",
    "print(square.get_side())  # Output: 10"
   ]
  },
  {
   "cell_type": "markdown",
   "metadata": {},
   "source": [
    "### 14) Create a class Profit that has a method named getProfit that accepts profit from the user.\n",
    "### Create a class Loss that has a method named getLoss that accepts loss from the user.\n",
    "### Create a class BalanceSheet that inherits from both classes Profit and Loss and calculates the balanace. It has two methods getBalance() and printBalance()."
   ]
  },
  {
   "cell_type": "code",
   "execution_count": 13,
   "metadata": {},
   "outputs": [
    {
     "name": "stdout",
     "output_type": "stream",
     "text": [
      "Enter profit amount: 10000\n",
      "Enter loss amount: 2000\n",
      "Total Profit: 10000.0\n",
      "Total Loss: 2000.0\n",
      "Balance: 8000.0\n"
     ]
    }
   ],
   "source": [
    "class Profit:  \n",
    "    def getProfit(self):  \n",
    "        self.profit = float(input(\"Enter profit amount: \"))  \n",
    "        return self.profit  \n",
    "\n",
    "\n",
    "class Loss:  \n",
    "    def getLoss(self):  \n",
    "        self.loss = float(input(\"Enter loss amount: \"))  \n",
    "        return self.loss  \n",
    "\n",
    "\n",
    "class BalanceSheet(Profit, Loss):  \n",
    "    def getBalance(self):  \n",
    "        self.total_profit = self.getProfit()  \n",
    "        self.total_loss = self.getLoss()  \n",
    "        self.balance = self.total_profit - self.total_loss  \n",
    "        return self.balance  \n",
    "\n",
    "    def printBalance(self):  \n",
    "        print(f\"Total Profit: {self.total_profit}\")  \n",
    "        print(f\"Total Loss: {self.total_loss}\")  \n",
    "        print(f\"Balance: {self.balance}\")  \n",
    "\n",
    "\n",
    "# Example usage  \n",
    "if __name__ == \"__main__\":  \n",
    "    balance_sheet = BalanceSheet()  \n",
    "    balance_sheet.getBalance()  \n",
    "    balance_sheet.printBalance()  "
   ]
  },
  {
   "cell_type": "markdown",
   "metadata": {},
   "source": [
    "### 15) WAP to demonstrate all types of inheritance."
   ]
  },
  {
   "cell_type": "code",
   "execution_count": 14,
   "metadata": {},
   "outputs": [
    {
     "name": "stdout",
     "output_type": "stream",
     "text": [
      "Animal speaks\n",
      "Dog barks\n",
      "Gardening, Painting\n",
      "Singing\n",
      "Gardening, Painting\n",
      "Wisdom from Grandparent\n",
      "Experience from Parent\n",
      "Youthfulness from Child\n",
      "Base method called\n",
      "Derived1 method called\n",
      "Base method called\n",
      "Derived2 method called\n",
      "Base method in Hybrid\n"
     ]
    }
   ],
   "source": [
    "# Single Inheritance  \n",
    "class Animal:  \n",
    "    def speak(self):  \n",
    "        return \"Animal speaks\"  \n",
    "\n",
    "class Dog(Animal):  \n",
    "    def bark(self):  \n",
    "        return \"Dog barks\"  \n",
    "\n",
    "# Multiple Inheritance  \n",
    "class Father:  \n",
    "    def skills(self):  \n",
    "        return \"Gardening, Painting\"  \n",
    "\n",
    "class Mother:  \n",
    "    def skills(self):  \n",
    "        return \"Cooking, Dancing\"  \n",
    "\n",
    "class Child(Father, Mother):  \n",
    "    def talents(self):  \n",
    "        return \"Singing\"  \n",
    "\n",
    "# Multilevel Inheritance  \n",
    "class Grandparent:  \n",
    "    def wisdom(self):  \n",
    "        return \"Wisdom from Grandparent\"  \n",
    "\n",
    "class Parent(Grandparent):  \n",
    "    def experience(self):  \n",
    "        return \"Experience from Parent\"  \n",
    "\n",
    "class ChildMultilevel(Parent):  \n",
    "    def youthfulness(self):  \n",
    "        return \"Youthfulness from Child\"  \n",
    "\n",
    "# Hierarchical Inheritance  \n",
    "class Base:  \n",
    "    def base_method(self):  \n",
    "        return \"Base method called\"  \n",
    "\n",
    "class Derived1(Base):  \n",
    "    def derived1_method(self):  \n",
    "        return \"Derived1 method called\"  \n",
    "\n",
    "class Derived2(Base):  \n",
    "    def derived2_method(self):  \n",
    "        return \"Derived2 method called\"  \n",
    "\n",
    "# Hybrid Inheritance  \n",
    "class BaseHybrid:  \n",
    "    def base_hybrid_method(self):  \n",
    "        return \"Base method in Hybrid\"  \n",
    "\n",
    "class DerivedA(BaseHybrid):  \n",
    "    pass  \n",
    "\n",
    "class DerivedB(BaseHybrid):  \n",
    "    pass  \n",
    "\n",
    "class MoreComplex(DerivedA, DerivedB):  \n",
    "    pass  \n",
    "\n",
    "# Demonstration  \n",
    "# Single Inheritance  \n",
    "dog = Dog()  \n",
    "print(dog.speak())  \n",
    "print(dog.bark())  \n",
    "\n",
    "# Multiple Inheritance  \n",
    "child = Child()  \n",
    "print(child.skills())  # From Father  \n",
    "print(child.talents())  \n",
    "print(child.skills())  # From Mother  \n",
    "\n",
    "# Multilevel Inheritance  \n",
    "child_ml = ChildMultilevel()  \n",
    "print(child_ml.wisdom())  \n",
    "print(child_ml.experience())  \n",
    "print(child_ml.youthfulness())  \n",
    "\n",
    "# Hierarchical Inheritance  \n",
    "derived1 = Derived1()  \n",
    "derived2 = Derived2()  \n",
    "print(derived1.base_method())  \n",
    "print(derived1.derived1_method())  \n",
    "print(derived2.base_method())  \n",
    "print(derived2.derived2_method())  \n",
    "\n",
    "# Hybrid Inheritance  \n",
    "hybrid_obj = MoreComplex()  \n",
    "print(hybrid_obj.base_hybrid_method())  "
   ]
  },
  {
   "cell_type": "markdown",
   "metadata": {},
   "source": [
    "### 16) Create a Person class with a constructor that takes two arguments name and age. \n",
    "### Create a child class Employee that inherits from Person and adds a new attribute salary. \n",
    "### Override the __init__ method in Employee to call the parent class's __init__ method using the super() and then initialize the salary attribute."
   ]
  },
  {
   "cell_type": "code",
   "execution_count": 15,
   "metadata": {},
   "outputs": [
    {
     "name": "stdout",
     "output_type": "stream",
     "text": [
      "Alice\n",
      "30\n",
      "50000\n"
     ]
    }
   ],
   "source": [
    "class Person:\n",
    "    def __init__(self, name, age):\n",
    "        self.name = name\n",
    "        self.age = age\n",
    "\n",
    "class Employee(Person):\n",
    "    def __init__(self, name, age, salary):\n",
    "        super().__init__(name, age)\n",
    "        self.salary = salary\n",
    "\n",
    "# Example of creating an instance of Employee\n",
    "employee = Employee(\"Alice\", 30, 50000)\n",
    "print(employee.name)  # Output: Alice\n",
    "print(employee.age)   # Output: 30\n",
    "print(employee.salary)  # Output: 50000"
   ]
  },
  {
   "cell_type": "markdown",
   "metadata": {},
   "source": [
    "### 17) Create a Shape class with a draw method that is not implemented. \n",
    "### Create three child classes Rectangle, Circle, and Triangle that implement the draw method with their respective drawing behaviors. \n",
    "### Create a list of Shape objects that includes one instance of each child class, and then iterate through the list and call the draw method on each object."
   ]
  },
  {
   "cell_type": "code",
   "execution_count": 16,
   "metadata": {},
   "outputs": [
    {
     "name": "stdout",
     "output_type": "stream",
     "text": [
      "Drawing a Rectangle\n",
      "Drawing a Circle\n",
      "Drawing a Triangle\n"
     ]
    }
   ],
   "source": [
    "from abc import ABC, abstractmethod  \n",
    "\n",
    "class Shape(ABC):  \n",
    "    @abstractmethod  \n",
    "    def draw(self):  \n",
    "        pass  \n",
    "\n",
    "class Rectangle(Shape):  \n",
    "    def draw(self):  \n",
    "        print(\"Drawing a Rectangle\")  \n",
    "\n",
    "class Circle(Shape):  \n",
    "    def draw(self):  \n",
    "        print(\"Drawing a Circle\")  \n",
    "\n",
    "class Triangle(Shape):  \n",
    "    def draw(self):  \n",
    "        print(\"Drawing a Triangle\")  \n",
    "\n",
    "# Creating a list of Shape objects  \n",
    "shapes = [Rectangle(), Circle(), Triangle()]  \n",
    "\n",
    "# Iterating through the list and calling draw method on each object  \n",
    "for shape in shapes:  \n",
    "    shape.draw()  "
   ]
  }
 ],
 "metadata": {
  "kernelspec": {
   "display_name": "Python 3 (ipykernel)",
   "language": "python",
   "name": "python3"
  },
  "language_info": {
   "codemirror_mode": {
    "name": "ipython",
    "version": 3
   },
   "file_extension": ".py",
   "mimetype": "text/x-python",
   "name": "python",
   "nbconvert_exporter": "python",
   "pygments_lexer": "ipython3",
   "version": "3.10.9"
  }
 },
 "nbformat": 4,
 "nbformat_minor": 4
}
